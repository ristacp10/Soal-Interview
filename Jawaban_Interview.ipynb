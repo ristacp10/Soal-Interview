{
 "cells": [
  {
   "cell_type": "markdown",
   "metadata": {
    "id": "3nff1cy4U7sF"
   },
   "source": [
    "## Soal No 1.\n",
    "Program kecil bernama \"ApaBole\"   \n",
    "\n",
    "Tolong print angka dari 1 sampai 100. Tetapi, Ada peraturan khusus:\n",
    "\n",
    "1. Untuk setiap angka yang bisa dibagi dengan 3, jangan print angka nya, tapi print \"Apa\".\n",
    "\n",
    "2. Kalau bisa dibagi dengan 5, print \"Bole\",\n",
    "\n",
    "3. Kalau bisa dibagi oleh 3 dan 5, print \"ApaBole\"."
   ]
  },
  {
   "cell_type": "code",
   "execution_count": 1,
   "metadata": {
    "colab": {
     "base_uri": "https://localhost:8080/"
    },
    "id": "Do_dPZDIhFXW",
    "outputId": "57de7252-bab7-4c2d-825d-5e68e158f465"
   },
   "outputs": [
    {
     "name": "stdout",
     "output_type": "stream",
     "text": [
      "1, 2, Apa, 4, Bole, Apa, 7, 8, Apa, Bole, 11, Apa, 13, 14, ApaBole, 16, 17, Apa, 19, Bole, Apa, 22, 23, Apa, Bole, 26, Apa, 28, 29, ApaBole, 31, 32, Apa, 34, Bole, Apa, 37, 38, Apa, Bole, 41, Apa, 43, 44, ApaBole, 46, 47, Apa, 49, Bole, Apa, 52, 53, Apa, Bole, 56, Apa, 58, 59, ApaBole, 61, 62, Apa, 64, Bole, Apa, 67, 68, Apa, Bole, 71, Apa, 73, 74, ApaBole, 76, 77, Apa, 79, Bole, Apa, 82, 83, Apa, Bole, 86, Apa, 88, 89, ApaBole, 91, 92, Apa, 94, Bole, Apa, 97, 98, Apa, Bole, "
     ]
    }
   ],
   "source": [
    "for i in range(1,101):\n",
    "  if i%3 == 0 and i%5 != 0:\n",
    "    print(\"Apa\", end = \", \")\n",
    "  elif i%5 == 0 and i%3 != 0:\n",
    "    print(\"Bole\", end= \", \")\n",
    "  elif i%3 == 0 and i%5 == 0:\n",
    "    print(\"ApaBole\", end= \", \")\n",
    "  else:\n",
    "    print(i, end= \", \")"
   ]
  },
  {
   "cell_type": "markdown",
   "metadata": {
    "id": "d7qovjWZWGrY"
   },
   "source": [
    "## Soal No 2.\n",
    "Menampilkan ramalan cuaca kota Jakarta untuk 7 hari kedepan\n",
    "\n",
    "1. Silahkan gunakan API yang disediakan http://openweathermap.org\n",
    "2. Tolong tampilkan output berupa ramalan cuaca kota Jakarta untuk 7 hari ke depan\n",
    "3. Soal ini tidak membutuhkan akun berbayar."
   ]
  },
  {
   "cell_type": "code",
   "execution_count": 11,
   "metadata": {
    "id": "maQWC30EY0_w"
   },
   "outputs": [],
   "source": [
    "import requests, json\n",
    "from datetime import datetime\n",
    "\n",
    "conn = requests.get(\"https://api.openweathermap.org/data/2.5/onecall?lat=-6.176274&lon=106.746540&exclude=hourly,minutely&units=metric&appid=ee1b11171a66052ac8fff6125177ef6b\")\n",
    "data = json.loads(conn.text)"
   ]
  },
  {
   "cell_type": "code",
   "execution_count": 12,
   "metadata": {
    "colab": {
     "base_uri": "https://localhost:8080/"
    },
    "id": "7_nbxfea_PR9",
    "outputId": "4fae56fd-00e5-4ae0-e815-f7cfa2803903"
   },
   "outputs": [
    {
     "name": "stdout",
     "output_type": "stream",
     "text": [
      "{'lat': -6.1763, 'lon': 106.7465, 'timezone': 'Asia/Jakarta', 'timezone_offset': 25200, 'current': {'dt': 1634963138, 'sunrise': 1634941729, 'sunset': 1634985937, 'temp': 31.88, 'feels_like': 37.4, 'pressure': 1011, 'humidity': 62, 'dew_point': 23.69, 'uvi': 7.83, 'clouds': 20, 'visibility': 9000, 'wind_speed': 4.12, 'wind_deg': 70, 'weather': [{'id': 721, 'main': 'Haze', 'description': 'haze', 'icon': '50d'}]}, 'daily': [{'dt': 1634961600, 'sunrise': 1634941729, 'sunset': 1634985937, 'moonrise': 1634993760, 'moonset': 1634947980, 'moon_phase': 0.58, 'temp': {'day': 31.88, 'min': 27.11, 'max': 31.88, 'night': 28.71, 'eve': 29.78, 'morn': 27.13}, 'feels_like': {'day': 37.4, 'night': 32.28, 'eve': 33.41, 'morn': 29.83}, 'pressure': 1011, 'humidity': 62, 'dew_point': 23.69, 'wind_speed': 4.59, 'wind_deg': 12, 'wind_gust': 4.94, 'weather': [{'id': 500, 'main': 'Rain', 'description': 'light rain', 'icon': '10d'}], 'clouds': 20, 'pop': 1, 'rain': 0.29, 'uvi': 8.37}, {'dt': 1635048000, 'sunrise': 1635028112, 'sunset': 1635072339, 'moonrise': 1635083040, 'moonset': 1635037080, 'moon_phase': 0.61, 'temp': {'day': 31.56, 'min': 27.46, 'max': 32.17, 'night': 29.44, 'eve': 30.51, 'morn': 27.52}, 'feels_like': {'day': 34.75, 'night': 32.33, 'eve': 33.61, 'morn': 30.45}, 'pressure': 1011, 'humidity': 55, 'dew_point': 21, 'wind_speed': 5.13, 'wind_deg': 14, 'wind_gust': 3.87, 'weather': [{'id': 804, 'main': 'Clouds', 'description': 'overcast clouds', 'icon': '04d'}], 'clouds': 91, 'pop': 0.26, 'uvi': 13.17}, {'dt': 1635134400, 'sunrise': 1635114495, 'sunset': 1635158742, 'moonrise': 1635172500, 'moonset': 1635126240, 'moon_phase': 0.64, 'temp': {'day': 32.01, 'min': 27.91, 'max': 33.09, 'night': 29.57, 'eve': 31.33, 'morn': 28.01}, 'feels_like': {'day': 35.66, 'night': 33.18, 'eve': 34.54, 'morn': 30.82}, 'pressure': 1009, 'humidity': 55, 'dew_point': 21.54, 'wind_speed': 5.85, 'wind_deg': 338, 'wind_gust': 4.71, 'weather': [{'id': 500, 'main': 'Rain', 'description': 'light rain', 'icon': '10d'}], 'clouds': 100, 'pop': 0.71, 'rain': 1.32, 'uvi': 14.18}, {'dt': 1635220800, 'sunrise': 1635200880, 'sunset': 1635245145, 'moonrise': 1635261900, 'moonset': 1635215640, 'moon_phase': 0.67, 'temp': {'day': 31.03, 'min': 28.41, 'max': 31.03, 'night': 28.74, 'eve': 30.81, 'morn': 28.41}, 'feels_like': {'day': 34.66, 'night': 32.17, 'eve': 34.45, 'morn': 31.64}, 'pressure': 1010, 'humidity': 59, 'dew_point': 21.85, 'wind_speed': 5.04, 'wind_deg': 21, 'wind_gust': 4.09, 'weather': [{'id': 500, 'main': 'Rain', 'description': 'light rain', 'icon': '10d'}], 'clouds': 86, 'pop': 0.84, 'rain': 3.29, 'uvi': 13.54}, {'dt': 1635307200, 'sunrise': 1635287265, 'sunset': 1635331549, 'moonrise': 1635351360, 'moonset': 1635305040, 'moon_phase': 0.7, 'temp': {'day': 30.68, 'min': 27.91, 'max': 31.18, 'night': 28.73, 'eve': 30.99, 'morn': 27.91}, 'feels_like': {'day': 34.18, 'night': 32.49, 'eve': 34.82, 'morn': 30.75}, 'pressure': 1010, 'humidity': 60, 'dew_point': 21.89, 'wind_speed': 5.58, 'wind_deg': 31, 'wind_gust': 6.03, 'weather': [{'id': 500, 'main': 'Rain', 'description': 'light rain', 'icon': '10d'}], 'clouds': 95, 'pop': 0.86, 'rain': 4.82, 'uvi': 13.44}, {'dt': 1635393600, 'sunrise': 1635373651, 'sunset': 1635417954, 'moonrise': 0, 'moonset': 1635394560, 'moon_phase': 0.73, 'temp': {'day': 31.12, 'min': 27.73, 'max': 31.33, 'night': 28.97, 'eve': 30.27, 'morn': 27.73}, 'feels_like': {'day': 35.1, 'night': 33.04, 'eve': 34.47, 'morn': 30.77}, 'pressure': 1010, 'humidity': 60, 'dew_point': 22.14, 'wind_speed': 4.9, 'wind_deg': 30, 'wind_gust': 5.38, 'weather': [{'id': 501, 'main': 'Rain', 'description': 'moderate rain', 'icon': '10d'}], 'clouds': 71, 'pop': 0.92, 'rain': 8.3, 'uvi': 14}, {'dt': 1635480000, 'sunrise': 1635460037, 'sunset': 1635504360, 'moonrise': 1635440760, 'moonset': 1635484080, 'moon_phase': 0.75, 'temp': {'day': 31.03, 'min': 27.82, 'max': 31.21, 'night': 28.61, 'eve': 30.56, 'morn': 27.82}, 'feels_like': {'day': 35.16, 'night': 32.57, 'eve': 34.64, 'morn': 31.1}, 'pressure': 1010, 'humidity': 61, 'dew_point': 22.46, 'wind_speed': 5.12, 'wind_deg': 22, 'wind_gust': 4.82, 'weather': [{'id': 501, 'main': 'Rain', 'description': 'moderate rain', 'icon': '10d'}], 'clouds': 27, 'pop': 0.91, 'rain': 9.69, 'uvi': 14}, {'dt': 1635566400, 'sunrise': 1635546425, 'sunset': 1635590766, 'moonrise': 1635530040, 'moonset': 1635573540, 'moon_phase': 0.79, 'temp': {'day': 30.73, 'min': 27.45, 'max': 32.54, 'night': 29.3, 'eve': 30.63, 'morn': 27.45}, 'feels_like': {'day': 34.52, 'night': 33.19, 'eve': 34.31, 'morn': 30.53}, 'pressure': 1010, 'humidity': 61, 'dew_point': 22.11, 'wind_speed': 4.82, 'wind_deg': 14, 'wind_gust': 4.53, 'weather': [{'id': 500, 'main': 'Rain', 'description': 'light rain', 'icon': '10d'}], 'clouds': 10, 'pop': 0.64, 'rain': 1.44, 'uvi': 14}]}\n"
     ]
    }
   ],
   "source": [
    "print(data)"
   ]
  },
  {
   "cell_type": "code",
   "execution_count": 13,
   "metadata": {
    "colab": {
     "base_uri": "https://localhost:8080/"
    },
    "id": "rrDZA4unYkwg",
    "outputId": "6dc7e94b-98d9-4362-9820-7db1e90af4a4"
   },
   "outputs": [
    {
     "name": "stdout",
     "output_type": "stream",
     "text": [
      "Sat, 23 October 2021 :  31.88 °C\n",
      "Sun, 24 October 2021 :  31.56 °C\n",
      "Mon, 25 October 2021 :  32.01 °C\n",
      "Tue, 26 October 2021 :  31.03 °C\n",
      "Wed, 27 October 2021 :  30.68 °C\n",
      "Thu, 28 October 2021 :  31.12 °C\n",
      "Fri, 29 October 2021 :  31.03 °C\n",
      "Sat, 30 October 2021 :  30.73 °C\n"
     ]
    }
   ],
   "source": [
    "for i in range(0, len(data['daily'])):\n",
    "  date = int(data['daily'][i]['dt'])\n",
    "  object = datetime.utcfromtimestamp(date).strftime('%Y-%m-%d %H:%M:%S')\n",
    "  datetimeobject = datetime.strptime(object,'%Y-%m-%d %H:%M:%S')\n",
    "  print(datetimeobject.strftime('%a, %d %B %Y'), \": \", data['daily'][i]['temp']['day'],\"°C\")"
   ]
  }
 ],
 "metadata": {
  "colab": {
   "name": "Jawaban_Interview.ipynb",
   "provenance": []
  },
  "kernelspec": {
   "display_name": "Python 3",
   "language": "python",
   "name": "python3"
  },
  "language_info": {
   "codemirror_mode": {
    "name": "ipython",
    "version": 3
   },
   "file_extension": ".py",
   "mimetype": "text/x-python",
   "name": "python",
   "nbconvert_exporter": "python",
   "pygments_lexer": "ipython3",
   "version": "3.6.6"
  }
 },
 "nbformat": 4,
 "nbformat_minor": 1
}
